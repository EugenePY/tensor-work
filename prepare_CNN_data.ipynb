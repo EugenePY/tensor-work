{
 "cells": [
  {
   "cell_type": "markdown",
   "metadata": {},
   "source": [
    "# Prepare data label for CNN model"
   ]
  },
  {
   "cell_type": "markdown",
   "metadata": {},
   "source": [
    "## Evironment setup"
   ]
  },
  {
   "cell_type": "code",
   "execution_count": 7,
   "metadata": {
    "collapsed": true
   },
   "outputs": [],
   "source": [
    "# Setup \n",
    "\n",
    "DATA_PATH = 'data/'\n",
    "IMAGES_PATH = 'data/formula_images/'\n",
    "\n",
    "FORMULAS = DATA_PATH + 'im2latex_formulas.lst'"
   ]
  },
  {
   "cell_type": "code",
   "execution_count": 8,
   "metadata": {
    "collapsed": false
   },
   "outputs": [],
   "source": [
    "# Import\n",
    "\n",
    "from  sys import stdout\n",
    "import numpy as np\n",
    "import cPickle as pickle\n",
    "import nltk\n",
    "import scipy.misc\n",
    "import scipy.sparse\n",
    "\n",
    "from tokenizer import Tokenizer"
   ]
  },
  {
   "cell_type": "markdown",
   "metadata": {},
   "source": [
    "## Label with formula tokenization\n",
    "目前將'command' token直接載入，將'text' token以character方式載入，還未做過濾，有些'command'與'text'不會顯示在圖片上。"
   ]
  },
  {
   "cell_type": "code",
   "execution_count": 9,
   "metadata": {
    "collapsed": true
   },
   "outputs": [],
   "source": [
    "# build formula list\n",
    "\n",
    "with open(FORMULAS) as formulas_file:\n",
    "    formula_list = []\n",
    "    for line in formulas_file:\n",
    "        formula_list.append(line)"
   ]
  },
  {
   "cell_type": "code",
   "execution_count": 10,
   "metadata": {
    "collapsed": false
   },
   "outputs": [],
   "source": [
    "# tokenize formula list\n",
    "\n",
    "formula_tokens_list = []\n",
    "\n",
    "for formula in formula_list:\n",
    "    tokens_dict = {}\n",
    "    tokenizer = Tokenizer(formula)\n",
    "    for token in tokenizer.tokenize():\n",
    "        # formation of token: (line_number, type, token_part, token_full)        \n",
    "        # command token process\n",
    "        if token[1] == 'command':\n",
    "            if '\\\\'+token[2] not in tokens_dict:\n",
    "                tokens_dict['\\\\'+token[2]] = 1\n",
    "            else:\n",
    "                tokens_dict['\\\\'+token[2]] += 1\n",
    "        # text token process\n",
    "        elif token[1] == 'text':\n",
    "            for c in token[3]:\n",
    "                if c not in tokens_dict:\n",
    "                    tokens_dict[c] = 1\n",
    "                else:\n",
    "                    tokens_dict[c] += 1\n",
    "    formula_tokens_list.append(tokens_dict)"
   ]
  },
  {
   "cell_type": "code",
   "execution_count": 5,
   "metadata": {
    "collapsed": false
   },
   "outputs": [],
   "source": [
    "# build token dictionary\n",
    "\n",
    "tokens_count = {}\n",
    "tokens_dict = {}\n",
    "\n",
    "# count token frequency\n",
    "for formula_tokens in formula_tokens_list:\n",
    "    for token, value in formula_tokens.iteritems():\n",
    "        if token not in tokens_count:\n",
    "            tokens_count[token] = value\n",
    "        else:\n",
    "            tokens_count[token] += 1\n",
    "\n",
    "#build token dictionary according to token frequency\n",
    "index = 2 # 0 for '<eos>' 1 for 'UNK'\n",
    "tokens_sorted = sorted(tokens_count, key = tokens_count.get, reverse = True)\n",
    "for token in tokens_sorted:\n",
    "    tokens_dict[token] = index\n",
    "    index += 1"
   ]
  },
  {
   "cell_type": "code",
   "execution_count": 6,
   "metadata": {
    "collapsed": false,
    "scrolled": true
   },
   "outputs": [
    {
     "ename": "NameError",
     "evalue": "name 'dataPath' is not defined",
     "output_type": "error",
     "traceback": [
      "\u001b[0;31m---------------------------------------------------------------------------\u001b[0m",
      "\u001b[0;31mNameError\u001b[0m                                 Traceback (most recent call last)",
      "\u001b[0;32m<ipython-input-6-71dd526ed41e>\u001b[0m in \u001b[0;36m<module>\u001b[0;34m()\u001b[0m\n\u001b[1;32m      1\u001b[0m \u001b[0;31m# build input file\u001b[0m\u001b[0;34m\u001b[0m\u001b[0;34m\u001b[0m\u001b[0m\n\u001b[1;32m      2\u001b[0m \u001b[0;34m\u001b[0m\u001b[0m\n\u001b[0;32m----> 3\u001b[0;31m \u001b[0;32mwith\u001b[0m \u001b[0mopen\u001b[0m\u001b[0;34m(\u001b[0m\u001b[0mdataPath\u001b[0m \u001b[0;34m+\u001b[0m \u001b[0;34m'cnn_token_dictionary.pkl'\u001b[0m\u001b[0;34m,\u001b[0m \u001b[0;34m'wb'\u001b[0m\u001b[0;34m)\u001b[0m \u001b[0;32mas\u001b[0m \u001b[0mf\u001b[0m\u001b[0;34m:\u001b[0m\u001b[0;34m\u001b[0m\u001b[0m\n\u001b[0m\u001b[1;32m      4\u001b[0m     \u001b[0mpickle\u001b[0m\u001b[0;34m.\u001b[0m\u001b[0mdump\u001b[0m\u001b[0;34m(\u001b[0m\u001b[0mtokens_dict\u001b[0m\u001b[0;34m,\u001b[0m \u001b[0mf\u001b[0m\u001b[0;34m)\u001b[0m\u001b[0;34m\u001b[0m\u001b[0m\n",
      "\u001b[0;31mNameError\u001b[0m: name 'dataPath' is not defined"
     ]
    }
   ],
   "source": [
    "# build input file\n",
    "\n",
    "with open(dataPath + 'cnn_token_dictionary.pkl', 'wb') as f:\n",
    "    pickle.dump(tokens_dict, f)"
   ]
  },
  {
   "cell_type": "markdown",
   "metadata": {},
   "source": [
    "## Images data process\n",
    "目前只將圖片載入成sparse matrix，生成im2latex_feature.train.pkl、im2latex_feature.validate.pkl與im2latex_feature.test.pkl。"
   ]
  },
  {
   "cell_type": "code",
   "execution_count": null,
   "metadata": {
    "collapsed": true
   },
   "outputs": [],
   "source": [
    "# write image pkl\n",
    "# image shape: (1654,2339)\n",
    "\n",
    "files = ['validate', 'test', 'train']\n",
    "\n",
    "for fname in files:\n",
    "    print fname \n",
    "    f = open(dataPath + 'im2latex_' + fname + '.lst')\n",
    "    counter = 1\n",
    "    \n",
    "    imageList = [i.split()[1] + '.png' for i in f]\n",
    "    numImage = len(imageList)\n",
    "\n",
    "    image = np.rollaxis(scipy.misc.imread(ImagesPath+imageList[0], flatten = True),1)\n",
    "    inverseImage = 255 - image\n",
    "    reshapeImage = np.reshape(inverseImage,(1,-1))\n",
    "    sparseImage = scipy.sparse.csr_matrix(reshapeImage)\n",
    "    result = sparseImage\n",
    "\n",
    "    for i in range(1,numImage):\n",
    "        image = np.rollaxis(scipy.misc.imread(ImagesPath+imageList[i], flatten = True),1)\n",
    "        inverseImage = 255 - image\n",
    "        reshapeImage = np.reshape(inverseImage,(1,-1))\n",
    "        sparseImage = scipy.sparse.csr_matrix(reshapeImage)\n",
    "        \n",
    "        counter += 1\n",
    "        stdout.write(\"\\r%d\" % counter)\n",
    "        stdout.flush()\n",
    "        result = scipy.sparse.vstack((result, sparseImage))\n",
    "        \n",
    "    print result.shape\n",
    "    \n",
    "    resultSave32 = result.astype('float32')\n",
    "    fileName = open(dataPath + 'im2latex_feature.' + fname + '.pkl','wb')\n",
    "    pickle.dump(resultSave32, fileName ,-1)\n",
    "    fileName.close()"
   ]
  },
  {
   "cell_type": "markdown",
   "metadata": {},
   "source": [
    "## Align image with label\n",
    "將label與image對齊，生成cnn_align.train.pkl、cnn_align.validate.pkl、cnn_align.test.pkl。\n",
    "要用時，先載入label list，再載入image list (list of sparse matrix)。"
   ]
  },
  {
   "cell_type": "code",
   "execution_count": 15,
   "metadata": {
    "collapsed": false
   },
   "outputs": [],
   "source": [
    "# write align pkl\n",
    "\n",
    "files = ['validate', 'test', 'train']\n",
    "\n",
    "for name in files:\n",
    "    counter = 0\n",
    "    images = pickle.load(open(DATA_PATH + 'im2latex_feature.' + name +'.pkl','rb'))\n",
    "    examples = open(DATA_PATH + 'im2latex_' + name + '.lst')\n",
    "    labels = []\n",
    "    for example in examples:\n",
    "        label = formula_tokens_list[int(example.split()[0])]\n",
    "        labels.append(label)\n",
    "        counter += 1\n",
    "    saveFile = open(DATA_PATH + 'cnn_align.' + name + '.pkl', 'wb')\n",
    "    pickle.dump(labels, saveFile, protocol=pickle.HIGHEST_PROTOCOL)\n",
    "    pickle.dump(images, saveFile, protocol=pickle.HIGHEST_PROTOCOL)\n",
    "    saveFile.close()"
   ]
  },
  {
   "cell_type": "markdown",
   "metadata": {},
   "source": [
    "# Some test"
   ]
  },
  {
   "cell_type": "code",
   "execution_count": null,
   "metadata": {
    "collapsed": false
   },
   "outputs": [],
   "source": [
    "tokens_dict['=']"
   ]
  },
  {
   "cell_type": "code",
   "execution_count": null,
   "metadata": {
    "collapsed": false
   },
   "outputs": [],
   "source": [
    "tokens_count"
   ]
  },
  {
   "cell_type": "code",
   "execution_count": null,
   "metadata": {
    "collapsed": false
   },
   "outputs": [],
   "source": [
    "tokens_sorted"
   ]
  },
  {
   "cell_type": "code",
   "execution_count": null,
   "metadata": {
    "collapsed": false
   },
   "outputs": [],
   "source": [
    "formula_tokens_list[1]"
   ]
  },
  {
   "cell_type": "code",
   "execution_count": null,
   "metadata": {
    "collapsed": true
   },
   "outputs": [],
   "source": []
  }
 ],
 "metadata": {
  "kernelspec": {
   "display_name": "Python 2",
   "language": "python",
   "name": "python2"
  },
  "language_info": {
   "codemirror_mode": {
    "name": "ipython",
    "version": 2
   },
   "file_extension": ".py",
   "mimetype": "text/x-python",
   "name": "python",
   "nbconvert_exporter": "python",
   "pygments_lexer": "ipython2",
   "version": "2.7.12"
  }
 },
 "nbformat": 4,
 "nbformat_minor": 0
}
